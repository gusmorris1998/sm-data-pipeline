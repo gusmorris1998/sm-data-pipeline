{
 "cells": [
  {
   "cell_type": "code",
   "execution_count": 9,
   "metadata": {},
   "outputs": [],
   "source": [
    "import os, json\n",
    "from dotenv import load_dotenv\n",
    "\n",
    "load_dotenv()\n",
    "\n",
    "with open(f\"/{os.getenv(\"WDIR\")}/scrape/storage/woolworths_cats.json\") as f:\n",
    "    woolworths_cat_data = json.load(f)[1:21]\n",
    "\n",
    "with open(f\"/{os.getenv(\"WDIR\")}/scrape/storage/coles_cats.json\") as f:\n",
    "    coles_cat_data = json.load(f)\n"
   ]
  },
  {
   "cell_type": "code",
   "execution_count": 33,
   "metadata": {},
   "outputs": [
    {
     "data": {
      "text/plain": [
       "{'NodeId': '1_DEF0CCD',\n",
       " 'Description': 'Christmas',\n",
       " 'UrlFriendlyName': 'christmas',\n",
       " 'Children': [{'NodeId': '1_DEF0CCD_SPECIALS',\n",
       "   'Description': 'Christmas Specials',\n",
       "   'UrlFriendlyName': 'christmas-specials',\n",
       "   'Children': []},\n",
       "  {'NodeId': '1_1C11EF0',\n",
       "   'Description': 'Woolworths Festive Range',\n",
       "   'UrlFriendlyName': 'woolworths-festive-range',\n",
       "   'Children': [{'NodeId': '1_1C11EF0_SPECIALS',\n",
       "     'Description': 'Woolworths Festive Range Specials',\n",
       "     'UrlFriendlyName': 'woolworths-festive-range-specials',\n",
       "     'Children': []},\n",
       "    {'NodeId': '1_DEC0B71',\n",
       "     'Description': 'Perfect Platter Essentials',\n",
       "     'UrlFriendlyName': 'perfect-platter-essentials',\n",
       "     'Children': []},\n",
       "    {'NodeId': '1_794CC11',\n",
       "     'Description': 'Sides & Mains',\n",
       "     'UrlFriendlyName': 'sides-mains',\n",
       "     'Children': []},\n",
       "    {'NodeId': '1_6F4CD0F',\n",
       "     'Description': 'Festive Sweets & Treats',\n",
       "     'UrlFriendlyName': 'festive-sweets-treats',\n",
       "     'Children': []},\n",
       "    {'NodeId': '1_C27E482',\n",
       "     'Description': 'Food Gifting',\n",
       "     'UrlFriendlyName': 'food-gifting',\n",
       "     'Children': []},\n",
       "    {'NodeId': '1_0DE4BCA',\n",
       "     'Description': 'Hair Accessories',\n",
       "     'UrlFriendlyName': 'hair-accessories',\n",
       "     'Children': []},\n",
       "    {'NodeId': '1_C506F0E',\n",
       "     'Description': 'Seasonal Staples',\n",
       "     'UrlFriendlyName': 'seasonal-staples',\n",
       "     'Children': []}]},\n",
       "  {'NodeId': '1_335A30F',\n",
       "   'Description': 'Chocolates & Treats',\n",
       "   'UrlFriendlyName': 'chocolates-treats',\n",
       "   'Children': [{'NodeId': '1_335A30F_SPECIALS',\n",
       "     'Description': 'Chocolates & Treats Specials',\n",
       "     'UrlFriendlyName': 'chocolates-treats-specials',\n",
       "     'Children': []},\n",
       "    {'NodeId': '1_9CD5A74',\n",
       "     'Description': 'Chocolate Gifts',\n",
       "     'UrlFriendlyName': 'chocolate-gifts',\n",
       "     'Children': []},\n",
       "    {'NodeId': '1_61784FE',\n",
       "     'Description': 'Advent Calendars & Stockings',\n",
       "     'UrlFriendlyName': 'advent-calendars-stockings',\n",
       "     'Children': []},\n",
       "    {'NodeId': '1_A7D2932',\n",
       "     'Description': 'Christmas Biscuits & Wafers',\n",
       "     'UrlFriendlyName': 'christmas-biscuits-wafers',\n",
       "     'Children': []},\n",
       "    {'NodeId': '1_53E06D9',\n",
       "     'Description': 'Chocolate Sharing',\n",
       "     'UrlFriendlyName': 'chocolate-sharing',\n",
       "     'Children': []},\n",
       "    {'NodeId': '1_59D19A4',\n",
       "     'Description': 'Christmas Sugar & Candy Canes',\n",
       "     'UrlFriendlyName': 'christmas-sugar-candy-canes',\n",
       "     'Children': []}]},\n",
       "  {'NodeId': '1_BF8AABC',\n",
       "   'Description': 'Gifts, Wrapping & Cards',\n",
       "   'UrlFriendlyName': 'gifts-wrapping-cards',\n",
       "   'Children': [{'NodeId': '1_BF8AABC_SPECIALS',\n",
       "     'Description': 'Gifts, Wrapping & Cards Specials',\n",
       "     'UrlFriendlyName': 'gifts-wrapping-cards-specials',\n",
       "     'Children': []},\n",
       "    {'NodeId': '1_42904A3',\n",
       "     'Description': 'Christmas Cards, Wrapping & Bags',\n",
       "     'UrlFriendlyName': 'christmas-cards-wrapping-bags',\n",
       "     'Children': []},\n",
       "    {'NodeId': '1_5411908',\n",
       "     'Description': 'Sweet & Savoury Gifts',\n",
       "     'UrlFriendlyName': 'sweet-savoury-gifts',\n",
       "     'Children': []},\n",
       "    {'NodeId': '1_2F8D380',\n",
       "     'Description': 'Gifts for Kids',\n",
       "     'UrlFriendlyName': 'gifts-for-kids',\n",
       "     'Children': []},\n",
       "    {'NodeId': '1_C14C22C',\n",
       "     'Description': 'Gifts for Adults',\n",
       "     'UrlFriendlyName': 'gifts-for-adults',\n",
       "     'Children': []}]},\n",
       "  {'NodeId': '1_7E50BD4',\n",
       "   'Description': 'Decorations & Partyware',\n",
       "   'UrlFriendlyName': 'decorations-partyware',\n",
       "   'Children': [{'NodeId': '1_7E50BD4_SPECIALS',\n",
       "     'Description': 'Decorations & Partyware Specials',\n",
       "     'UrlFriendlyName': 'decorations-partyware-specials',\n",
       "     'Children': []},\n",
       "    {'NodeId': '1_8FCAD58',\n",
       "     'Description': 'Outdoor Entertaining',\n",
       "     'UrlFriendlyName': 'outdoor-entertaining',\n",
       "     'Children': []},\n",
       "    {'NodeId': '1_5A43AAB',\n",
       "     'Description': 'Tree Decorations',\n",
       "     'UrlFriendlyName': 'tree-decorations',\n",
       "     'Children': []},\n",
       "    {'NodeId': '1_6F9A090',\n",
       "     'Description': 'Lights',\n",
       "     'UrlFriendlyName': 'lights',\n",
       "     'Children': []},\n",
       "    {'NodeId': '1_3D0E7F0',\n",
       "     'Description': 'Trees',\n",
       "     'UrlFriendlyName': 'trees',\n",
       "     'Children': []},\n",
       "    {'NodeId': '1_256769C',\n",
       "     'Description': 'Home Decorations',\n",
       "     'UrlFriendlyName': 'home-decorations',\n",
       "     'Children': []},\n",
       "    {'NodeId': '1_88E334D',\n",
       "     'Description': 'Bon Bons & Partyware',\n",
       "     'UrlFriendlyName': 'bon-bons-partyware',\n",
       "     'Children': []},\n",
       "    {'NodeId': '1_634836C',\n",
       "     'Description': 'Table & Kitchenware',\n",
       "     'UrlFriendlyName': 'table-kitchenware',\n",
       "     'Children': []},\n",
       "    {'NodeId': '1_745B46D',\n",
       "     'Description': 'Cookware Essentials',\n",
       "     'UrlFriendlyName': 'cookware-essentials',\n",
       "     'Children': []}]},\n",
       "  {'NodeId': '1_237D25B',\n",
       "   'Description': 'Bakery & Desserts',\n",
       "   'UrlFriendlyName': 'bakery-desserts',\n",
       "   'Children': [{'NodeId': '1_237D25B_SPECIALS',\n",
       "     'Description': 'Bakery & Desserts Specials',\n",
       "     'UrlFriendlyName': 'bakery-desserts-specials',\n",
       "     'Children': []},\n",
       "    {'NodeId': '1_6750C94',\n",
       "     'Description': 'Festive Baked Treats & Desserts',\n",
       "     'UrlFriendlyName': 'festive-baked-treats-desserts',\n",
       "     'Children': []},\n",
       "    {'NodeId': '1_40C577B',\n",
       "     'Description': 'Decorations & Festive Dried Fruits',\n",
       "     'UrlFriendlyName': 'decorations-festive-dried-fruits',\n",
       "     'Children': []},\n",
       "    {'NodeId': '1_ADCCA3A',\n",
       "     'Description': 'Custards, Creams & Egg Nog',\n",
       "     'UrlFriendlyName': 'custards-creams-egg-nog',\n",
       "     'Children': []}]},\n",
       "  {'NodeId': '1_C8A22A0',\n",
       "   'Description': 'Lunch, Dinner & Entertaining',\n",
       "   'UrlFriendlyName': 'lunch-dinner-entertaining',\n",
       "   'Children': [{'NodeId': '1_C8A22A0_SPECIALS',\n",
       "     'Description': 'Lunch, Dinner & Entertaining Specials',\n",
       "     'UrlFriendlyName': 'lunch-dinner-entertaining-specials',\n",
       "     'Children': []},\n",
       "    {'NodeId': '1_6FECE53',\n",
       "     'Description': 'Ham, Pork & Lamb Legs',\n",
       "     'UrlFriendlyName': 'ham-pork-lamb-legs',\n",
       "     'Children': []},\n",
       "    {'NodeId': '1_172EEA3',\n",
       "     'Description': 'Turkey & Chicken',\n",
       "     'UrlFriendlyName': 'turkey-chicken',\n",
       "     'Children': []},\n",
       "    {'NodeId': '1_B978FA5',\n",
       "     'Description': 'Seafood',\n",
       "     'UrlFriendlyName': 'seafood',\n",
       "     'Children': []},\n",
       "    {'NodeId': '1_10DB286',\n",
       "     'Description': 'Platters, Cheese & Crackers',\n",
       "     'UrlFriendlyName': 'platters-cheese-crackers',\n",
       "     'Children': []}]}]}"
      ]
     },
     "execution_count": 33,
     "metadata": {},
     "output_type": "execute_result"
    }
   ],
   "source": [
    "import json\n",
    "\n",
    "json.loads(woolworths_cat_data[0])\n",
    "# json.loads(coles_cat_data[1])['catalogGroupView']"
   ]
  },
  {
   "cell_type": "markdown",
   "metadata": {},
   "source": [
    "## psycopg2\n",
    "\n",
    "### Database Connect\n",
    "\n",
    "Connect to an existing database, creating a new database session for which methods for th"
   ]
  },
  {
   "cell_type": "code",
   "execution_count": null,
   "metadata": {},
   "outputs": [],
   "source": [
    "import psycopg2\n",
    "\n",
    "# conn = psycopg2.connect(**params)"
   ]
  },
  {
   "cell_type": "markdown",
   "metadata": {},
   "source": [
    "### Cursor\n",
    "\n",
    "Creates a cursor instance encapsulated by the connection to perform database operations.\n",
    "\n",
    "create new cursor instances using the cursor() method to execute database commands and queries."
   ]
  },
  {
   "cell_type": "code",
   "execution_count": 24,
   "metadata": {},
   "outputs": [],
   "source": [
    "# Open a cursor to perform database operations\n",
    "\n",
    "cur = conn.cursor()"
   ]
  },
  {
   "cell_type": "markdown",
   "metadata": {},
   "source": [
    "### Executing Commands\n",
    "\n",
    "The class cursor allows interaction with the database:\n",
    "\n",
    "send commands to the database using methods such as execute() and executemany(),\n",
    "\n",
    "retrieve data from the database by iteration or using methods such as fetchone(), fetchmany(), fetchall()."
   ]
  },
  {
   "cell_type": "code",
   "execution_count": 30,
   "metadata": {},
   "outputs": [],
   "source": [
    "def process_coles_cat(cat, parentId=None):\n",
    "    cur.execute(\"\"\"\n",
    "        INSERT INTO category (catid, parentid, catname, companyid, other)\n",
    "        VALUES (%s, %s, %s, %s, %s);\n",
    "    \"\"\",\n",
    "    (cat['id'], parentId, cat['name'], 2, cat['originalName'])\n",
    "    )\n",
    "\n",
    "    for child in cat['catalogGroupView']:\n",
    "        process_coles_cat(child, parentId=cat['id'])\n",
    "\n",
    "\n",
    "for cat in coles_cat_data:\n",
    "    process_coles_cat(json.loads(cat))    \n",
    "\n",
    "conn.commit()"
   ]
  },
  {
   "cell_type": "code",
   "execution_count": 41,
   "metadata": {},
   "outputs": [],
   "source": [
    "def process_woolworths_cat(cat, parentId=None):\n",
    "    cur.execute(\"\"\"\n",
    "        INSERT INTO category (catid, parentid, catname, companyid, other)\n",
    "        VALUES (%s, %s, %s, %s, %s);\n",
    "    \"\"\",\n",
    "    (cat['NodeId'], parentId, cat['Description'], 1, cat['UrlFriendlyName'])\n",
    "    )\n",
    "\n",
    "    for child in cat['Children']:\n",
    "        process_woolworths_cat(child, parentId=cat['NodeId'])\n",
    "\n",
    "\n",
    "for cat in woolworths_cat_data:\n",
    "    process_woolworths_cat(json.loads(cat))    \n",
    "\n",
    "conn.commit()"
   ]
  },
  {
   "cell_type": "code",
   "execution_count": 48,
   "metadata": {},
   "outputs": [],
   "source": [
    "cur.execute(\"\"\"\n",
    "    SELECT catid, other\n",
    "    FROM category \n",
    "    WHERE companyid = 2\n",
    "\"\"\")"
   ]
  },
  {
   "cell_type": "code",
   "execution_count": 49,
   "metadata": {},
   "outputs": [],
   "source": [
    "vals = cur.fetchall()"
   ]
  },
  {
   "cell_type": "code",
   "execution_count": 72,
   "metadata": {},
   "outputs": [],
   "source": [
    "chars = set()\n",
    "\n",
    "for _, other in vals:\n",
    "    for c in other:\n",
    "        if (ord('a') <= ord(c) <= ord('z')) or (ord('A') <= ord(c) <= ord('Z')):\n",
    "            pass\n",
    "        else:\n",
    "            chars.add(c)\n"
   ]
  },
  {
   "cell_type": "code",
   "execution_count": 76,
   "metadata": {},
   "outputs": [
    {
     "data": {
      "text/plain": [
       "{' ', '&', ',', '-', '/'}"
      ]
     },
     "execution_count": 76,
     "metadata": {},
     "output_type": "execute_result"
    }
   ],
   "source": [
    "chars.remove(\"2\")"
   ]
  },
  {
   "cell_type": "code",
   "execution_count": 77,
   "metadata": {},
   "outputs": [
    {
     "ename": "TypeError",
     "evalue": "'str' object does not support item assignment",
     "output_type": "error",
     "traceback": [
      "\u001b[0;31m---------------------------------------------------------------------------\u001b[0m",
      "\u001b[0;31mTypeError\u001b[0m                                 Traceback (most recent call last)",
      "Cell \u001b[0;32mIn[77], line 4\u001b[0m\n\u001b[1;32m      2\u001b[0m \u001b[38;5;28;01mfor\u001b[39;00m index, c \u001b[38;5;129;01min\u001b[39;00m \u001b[38;5;28menumerate\u001b[39m(other):\n\u001b[1;32m      3\u001b[0m     \u001b[38;5;28;01mif\u001b[39;00m c \u001b[38;5;129;01min\u001b[39;00m chars:\n\u001b[0;32m----> 4\u001b[0m         \u001b[43mother\u001b[49m\u001b[43m[\u001b[49m\u001b[43mindex\u001b[49m\u001b[43m]\u001b[49m \u001b[38;5;241m=\u001b[39m \u001b[38;5;124m'\u001b[39m\u001b[38;5;124m-\u001b[39m\u001b[38;5;124m'\u001b[39m\n",
      "\u001b[0;31mTypeError\u001b[0m: 'str' object does not support item assignment"
     ]
    }
   ],
   "source": [
    "for id, other in vals:\n",
    "    for index, c in enumerate(other):\n",
    "        if c in chars:\n",
    "            other[index] = '-'\n"
   ]
  },
  {
   "cell_type": "code",
   "execution_count": null,
   "metadata": {},
   "outputs": [],
   "source": []
  }
 ],
 "metadata": {
  "kernelspec": {
   "display_name": "Python (venv)",
   "language": "python",
   "name": "venv"
  },
  "language_info": {
   "codemirror_mode": {
    "name": "ipython",
    "version": 3
   },
   "file_extension": ".py",
   "mimetype": "text/x-python",
   "name": "python",
   "nbconvert_exporter": "python",
   "pygments_lexer": "ipython3",
   "version": "3.13.0"
  }
 },
 "nbformat": 4,
 "nbformat_minor": 2
}
